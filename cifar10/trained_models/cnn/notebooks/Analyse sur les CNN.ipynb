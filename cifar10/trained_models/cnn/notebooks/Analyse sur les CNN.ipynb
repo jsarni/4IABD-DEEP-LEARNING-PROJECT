{
 "cells": [
  {
   "cell_type": "code",
   "execution_count": null,
   "metadata": {
    "collapsed": true
   },
   "outputs": [],
   "source": [
    "#Préparation des outils:\n",
    "import pandas as pd\n",
    "from IPython.display import display\n",
    "import numpy as np\n",
    "from PIL import Image"
   ]
  },
  {
   "cell_type": "code",
   "execution_count": 3,
   "outputs": [
    {
     "data": {
      "text/plain": "\"\\npour l'analyse de nos Convnets on procède d'abord avec des modèles simples et petits:\\n0- 1 à 3 couches:\\n    -filters entre 32 et 512 \\n    -kernel  entre 2 et 5\\n    -avec/sans MaxPooling\\n    -avec/sans Régularisation\\n    -avec/sans Dropout\\n    \\n1- 3 à 6 couches:\\n    -filters entre 32 et 256 \\n    -kernel  entre 2 et 5\\n    -avec/sans MaxPooling\\n    -avec/sans Régularisation\\n    -avec/sans Dropout\\n    \\n2- 3 à 8 couches:\\n    -filters entre 32 et 256 \\n    -kernel  entre 2 et 5\\n    -avec/sans MaxPooling\\n    -avec/sans Régularisation\\n    -avec/sans Dropout\\n    \\n3- 3 à 12 couches:\\n    -filters entre 32 et 256 \\n    -kernel  entre 2 et 5\\n    -avec/sans MaxPooling\\n    -avec/sans Régularisation\\n    -avec/sans Dropout\\n    \\n4- 3 à 18 couches:\\n    -filters entre 32 et 64 \\n    -kernel  entre 2 et 5\\n    -avec/sans MaxPooling\\n    -avec/sans Régularisation\\n    -avec/sans Dropout\\n\\ntout en combinant avec des Randoms sur le type de fonction d'activation, les kernels,\\net valeurs des l1, l2 et dropout\\n\\n\""
     },
     "metadata": {},
     "output_type": "execute_result",
     "execution_count": 3
    }
   ],
   "source": [
    "\"\"\"\n",
    "pour l'analyse de nos Convnets on procède d'abord avec des modèles simples et petits:\n",
    "0- 1 à 3 couches:\n",
    "    -filters entre 32 et 512 \n",
    "    -kernel  entre 2 et 5\n",
    "    -avec/sans MaxPooling\n",
    "    -avec/sans Régularisation\n",
    "    -avec/sans Dropout\n",
    "    \n",
    "1- 3 à 6 couches:\n",
    "    -filters entre 32 et 256 \n",
    "    -kernel  entre 2 et 5\n",
    "    -avec/sans MaxPooling\n",
    "    -avec/sans Régularisation\n",
    "    -avec/sans Dropout\n",
    "    \n",
    "2- 3 à 8 couches:\n",
    "    -filters entre 32 et 256 \n",
    "    -kernel  entre 2 et 5\n",
    "    -avec/sans MaxPooling\n",
    "    -avec/sans Régularisation\n",
    "    -avec/sans Dropout\n",
    "    \n",
    "3- 3 à 12 couches:\n",
    "    -filters entre 32 et 256 \n",
    "    -kernel  entre 2 et 5\n",
    "    -avec/sans MaxPooling\n",
    "    -avec/sans Régularisation\n",
    "    -avec/sans Dropout\n",
    "    \n",
    "4- 3 à 18 couches:\n",
    "    -filters entre 32 et 64 \n",
    "    -kernel  entre 2 et 5\n",
    "    -avec/sans MaxPooling\n",
    "    -avec/sans Régularisation\n",
    "    -avec/sans Dropout\n",
    "\n",
    "tout en combinant avec des Randoms sur le type de fonction d'activation, les kernels,\n",
    "et valeurs des l1, l2 et dropout\n",
    "\n",
    "\"\"\""
   ],
   "metadata": {
    "collapsed": false,
    "pycharm": {
     "name": "#%% g\n",
     "is_executing": false
    }
   }
  },
  {
   "cell_type": "code",
   "execution_count": null,
   "outputs": [],
   "source": [
    "#importation des données CSV\n",
    "results_dataframes_list = []\n",
    "results_dataframes_desc = []\n",
    "root_csv_folder = \"..\\\\historique_tests\\\\\"\n",
    "\n",
    "for i in [64, 128, 256, 512]:\n",
    "    df = pd.read_csv(\"{}tested_cnn_history.csv\".format(root_csv_folder), sep=\";\")\n",
    "    df = df[df.epochs == 400]\n",
    "    results_dataframes_list.append(df)\n",
    "    results_dataframes_desc.append(\"mlp_5_10_{}\".format(i))\n",
    "\n",
    "\n"
   ],
   "metadata": {
    "collapsed": false,
    "pycharm": {
     "name": "#%%\n"
    }
   }
  }
 ],
 "metadata": {
  "kernelspec": {
   "display_name": "Python 3",
   "language": "python",
   "name": "python3"
  },
  "language_info": {
   "codemirror_mode": {
    "name": "ipython",
    "version": 2
   },
   "file_extension": ".py",
   "mimetype": "text/x-python",
   "name": "python",
   "nbconvert_exporter": "python",
   "pygments_lexer": "ipython2",
   "version": "2.7.6"
  },
  "pycharm": {
   "stem_cell": {
    "cell_type": "raw",
    "source": [],
    "metadata": {
     "collapsed": false
    }
   }
  }
 },
 "nbformat": 4,
 "nbformat_minor": 0
}