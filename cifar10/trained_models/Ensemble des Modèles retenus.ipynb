{
 "cells": [
  {
   "cell_type": "code",
   "execution_count": 2,
   "metadata": {},
   "outputs": [],
   "source": [
    "from tensorflow.keras.utils import plot_model, to_categorical\n",
    "from tensorflow.keras.layers import *\n",
    "from tensorflow.keras.models import *\n",
    "from tensorflow.keras.regularizers import *\n",
    "from tensorflow.keras.optimizers import *\n",
    "\n",
    "from tensorflow.keras.datasets import cifar10"
   ]
  },
  {
   "cell_type": "markdown",
   "metadata": {},
   "source": [
    "# ---------------------------- Modèle Linéaire ----------------------------"
   ]
  },
  {
   "cell_type": "code",
   "execution_count": 2,
   "metadata": {},
   "outputs": [],
   "source": [
    "(train_data, train_labels), (val_data, val_labels) = cifar10.load_data()"
   ]
  },
  {
   "cell_type": "code",
   "execution_count": 3,
   "metadata": {},
   "outputs": [],
   "source": [
    "mylinearmodel = load_model(\".\\\\linearModel\\\\saved_models\\\\myLinearModel.h5\")"
   ]
  },
  {
   "cell_type": "markdown",
   "metadata": {},
   "source": [
    "### Evaluation du modèle :"
   ]
  },
  {
   "cell_type": "code",
   "execution_count": 4,
   "metadata": {},
   "outputs": [
    {
     "name": "stdout",
     "output_type": "stream",
     "text": [
      "Accuracy sur le dataset de Train : 0.31472\n",
      "Accuracy sur le dataset de Validation : 0.2955\n"
     ]
    }
   ],
   "source": [
    "train_accuracy = mylinearmodel.evaluate(train_data, train_labels, verbose=0)\n",
    "val_accuracy = mylinearmodel.evaluate(val_data, val_labels, verbose=0)\n",
    "\n",
    "print(\"Accuracy sur le dataset de Train :\", train_accuracy[-1])\n",
    "print(\"Accuracy sur le dataset de Validation :\", val_accuracy[-1])"
   ]
  },
  {
   "cell_type": "markdown",
   "metadata": {},
   "source": [
    "# ---------------------------- MLP ----------------------------"
   ]
  },
  {
   "cell_type": "markdown",
   "metadata": {},
   "source": [
    "- MLP à 11 couches cachées\n",
    "- 512 neurones par couche\n",
    "- Régularisation L2 à 0.001 sur les couches cachées\n",
    "- Fonction d'activation \"softplus\" sur les couches cachées \n",
    "- Fonction d'activation \"softmax\" sur les output\n",
    "\n",
    "Structure du Modèle :\n",
    "![structure mlp retenu](.\\mlp\\images\\mymlp.png)"
   ]
  },
  {
   "cell_type": "markdown",
   "metadata": {},
   "source": [
    "### Chargement du modèle :"
   ]
  },
  {
   "cell_type": "code",
   "execution_count": 6,
   "metadata": {},
   "outputs": [],
   "source": [
    "(train_data, train_labels), (val_data, val_labels) = cifar10.load_data()"
   ]
  },
  {
   "cell_type": "code",
   "execution_count": 3,
   "metadata": {},
   "outputs": [],
   "source": [
    "mymlp = load_model(\".\\\\mlp\\\\saved_models\\\\mymlp.h5\")"
   ]
  },
  {
   "cell_type": "markdown",
   "metadata": {},
   "source": [
    "### Evaluation du modèle :"
   ]
  },
  {
   "cell_type": "code",
   "execution_count": 4,
   "metadata": {
    "scrolled": true
   },
   "outputs": [
    {
     "name": "stdout",
     "output_type": "stream",
     "text": [
      "Accuracy sur le dataset de Train : 0.65538\n",
      "Accuracy sur le dataset de Validation : 0.5306\n"
     ]
    }
   ],
   "source": [
    "train_accuracy = mymlp.evaluate(train_data, train_labels, verbose=0)\n",
    "val_accuracy = mymlp.evaluate(val_data, val_labels, verbose=0)\n",
    "\n",
    "print(\"Accuracy sur le dataset de Train :\", train_accuracy[-1])\n",
    "print(\"Accuracy sur le dataset de Validation :\", val_accuracy[-1])"
   ]
  },
  {
   "cell_type": "markdown",
   "metadata": {},
   "source": [
    "# ---------------------------- CNN ----------------------------"
   ]
  },
  {
   "cell_type": "markdown",
   "metadata": {},
   "source": [
    "- 5 couches cachées\n",
    "- Channels allant de 32 à 128 selon les couches\n",
    "- Noyau de 3*3\n",
    "- Fonction d'activation \"selu\" sur les couches cachées \n",
    "- Fonction d'activation \"softmax\" sur les output\n",
    "- MaxxPoooling 3*3\n",
    "- L1 à 0.005\n",
    "- L2 à 0.06\n",
    "\n",
    "Structure du Modèle :\n",
    "![structure cnn retenu](.\\cnn\\images\\cnn_my_best.png)"
   ]
  },
  {
   "cell_type": "markdown",
   "metadata": {},
   "source": [
    "### Chargement du modèle :"
   ]
  },
  {
   "cell_type": "code",
   "execution_count": 7,
   "metadata": {},
   "outputs": [],
   "source": [
    "(train_data, train_labels), (val_data, val_labels) = cifar10.load_data()"
   ]
  },
  {
   "cell_type": "code",
   "execution_count": 8,
   "metadata": {},
   "outputs": [],
   "source": [
    "mycnn = load_model(\".\\\\cnn\\\\saved_models\\\\cnn_my_best.h5\")"
   ]
  },
  {
   "cell_type": "markdown",
   "metadata": {},
   "source": [
    "### Evaluation du modèle :"
   ]
  },
  {
   "cell_type": "code",
   "execution_count": 9,
   "metadata": {
    "scrolled": true
   },
   "outputs": [
    {
     "name": "stdout",
     "output_type": "stream",
     "text": [
      "Accuracy sur le dataset de Train : 0.81434\n",
      "Accuracy sur le dataset de Validation : 0.7496\n"
     ]
    }
   ],
   "source": [
    "train_accuracy = mycnn.evaluate(train_data, train_labels, verbose=0)\n",
    "val_accuracy = mycnn.evaluate(val_data, val_labels, verbose=0)\n",
    "\n",
    "print(\"Accuracy sur le dataset de Train :\", train_accuracy[-1])\n",
    "print(\"Accuracy sur le dataset de Validation :\", val_accuracy[-1])"
   ]
  },
  {
   "cell_type": "markdown",
   "metadata": {},
   "source": [
    "# ---------------------------- ResNets ----------------------------"
   ]
  },
  {
   "cell_type": "markdown",
   "metadata": {},
   "source": [
    "- 7 couches cachées\n",
    "- Skip connection toutes les 2 couches (ResNet 34)\n",
    "- Régularisation L2 à 0.029 sur les couches cachées\n",
    "- Fonction d'activation \"selu\" sur les couches cachées \n",
    "- Fonction d'activation \"softmax\" sur les output\n",
    "- 64 channels (filter)\n",
    "- Noyau de 3*3\n",
    "- Maxpool\n",
    "\n",
    "Structure du Modèle :\n",
    "![structure resnet retenu](.\\rsnet\\images\\My_Rsnet.png)"
   ]
  },
  {
   "cell_type": "markdown",
   "metadata": {},
   "source": [
    "### Chargement du modèle :"
   ]
  },
  {
   "cell_type": "code",
   "execution_count": 9,
   "metadata": {},
   "outputs": [],
   "source": [
    "(train_data, train_labels), (val_data, val_labels) = cifar10.load_data()\n",
    "train_labels = to_categorical(train_labels, 10)\n",
    "val_labels = to_categorical(val_labels, 10)"
   ]
  },
  {
   "cell_type": "code",
   "execution_count": 3,
   "metadata": {},
   "outputs": [],
   "source": [
    "myresnet = load_model(\".\\\\rsnet\\\\saved_models\\\\My_Rsnet.h5\")"
   ]
  },
  {
   "cell_type": "markdown",
   "metadata": {},
   "source": [
    "### Evaluation du modèle :"
   ]
  },
  {
   "cell_type": "code",
   "execution_count": 10,
   "metadata": {
    "scrolled": true
   },
   "outputs": [
    {
     "name": "stdout",
     "output_type": "stream",
     "text": [
      "Accuracy sur le dataset de Train : 0.8221\n",
      "Accuracy sur le dataset de Validation : 0.7121\n"
     ]
    }
   ],
   "source": [
    "train_accuracy = myresnet.evaluate(train_data, train_labels, verbose=0)\n",
    "val_accuracy = myresnet.evaluate(val_data, val_labels, verbose=0)\n",
    "\n",
    "print(\"Accuracy sur le dataset de Train :\", train_accuracy[-1])\n",
    "print(\"Accuracy sur le dataset de Validation :\", val_accuracy[-1])"
   ]
  },
  {
   "cell_type": "markdown",
   "metadata": {},
   "source": [
    "# ---------------------------- LSTM ----------------------------"
   ]
  },
  {
   "cell_type": "markdown",
   "metadata": {},
   "source": [
    "- LSTM à 3 couches cachées\n",
    "- Régularisation Recurrent Dropout à 0.6\n",
    "- Fonction d'activation \"tanh\" sur les couches cachées\n",
    "- Fonction d'activation \"sigmoid\" sur les récursions\n",
    "- Fonction d'activation \"softmax\" sur les output\n",
    "\n",
    "Structure du Modèle :\n",
    "![structure lstm retenu](.\\lstm\\images\\mylstm.png)"
   ]
  },
  {
   "cell_type": "markdown",
   "metadata": {},
   "source": [
    "### Chargement du modèle :"
   ]
  },
  {
   "cell_type": "code",
   "execution_count": 5,
   "metadata": {},
   "outputs": [],
   "source": [
    "(train_data, train_labels), (val_data, val_labels) = cifar10.load_data()\n",
    "train_data = train_data.reshape((50000, 32, 96))\n",
    "val_data = val_data.reshape((10000, 32, 96))"
   ]
  },
  {
   "cell_type": "code",
   "execution_count": 6,
   "metadata": {},
   "outputs": [
    {
     "name": "stdout",
     "output_type": "stream",
     "text": [
      "WARNING:tensorflow:Large dropout rate: 0.6 (>0.5). In TensorFlow 2.x, dropout() uses dropout rate instead of keep_prob. Please ensure that this is intended.\n",
      "WARNING:tensorflow:Large dropout rate: 0.6 (>0.5). In TensorFlow 2.x, dropout() uses dropout rate instead of keep_prob. Please ensure that this is intended.\n",
      "WARNING:tensorflow:Large dropout rate: 0.6 (>0.5). In TensorFlow 2.x, dropout() uses dropout rate instead of keep_prob. Please ensure that this is intended.\n",
      "WARNING:tensorflow:Large dropout rate: 0.6 (>0.5). In TensorFlow 2.x, dropout() uses dropout rate instead of keep_prob. Please ensure that this is intended.\n",
      "WARNING:tensorflow:Large dropout rate: 0.6 (>0.5). In TensorFlow 2.x, dropout() uses dropout rate instead of keep_prob. Please ensure that this is intended.\n"
     ]
    }
   ],
   "source": [
    "mylstm = load_model(\".\\\\lstm\\\\saved_models\\\\mylstm.h5\")"
   ]
  },
  {
   "cell_type": "markdown",
   "metadata": {},
   "source": [
    "### Evaluation du modèle :"
   ]
  },
  {
   "cell_type": "code",
   "execution_count": 7,
   "metadata": {},
   "outputs": [
    {
     "name": "stdout",
     "output_type": "stream",
     "text": [
      "Accuracy sur le dataset de Train : 0.76538\n",
      "Accuracy sur le dataset de Validation : 0.6291\n"
     ]
    }
   ],
   "source": [
    "train_accuracy = mylstm.evaluate(train_data, train_labels, verbose=0)\n",
    "val_accuracy = mylstm.evaluate(val_data, val_labels, verbose=0)\n",
    "\n",
    "print(\"Accuracy sur le dataset de Train :\", train_accuracy[-1])\n",
    "print(\"Accuracy sur le dataset de Validation :\", val_accuracy[-1])"
   ]
  },
  {
   "cell_type": "markdown",
   "metadata": {},
   "source": [
    "# ---------------------------- UNet ----------------------------"
   ]
  },
  {
   "cell_type": "markdown",
   "metadata": {},
   "source": [
    "- UNet à 7 couches cachées\n",
    "- Maxpool\n",
    "- Fonction d'activation \"selu\" sur les couches cachées\n",
    "- Fonction d'activation \"softmax\" sur les output\n",
    "- Couche Average pour les connexions\n",
    "\n",
    "Structure du Modèle :\n",
    "![structure unet retenu](.\\unet\\images\\myunet.png)"
   ]
  },
  {
   "cell_type": "markdown",
   "metadata": {},
   "source": [
    "### Chargement du modèle :"
   ]
  },
  {
   "cell_type": "code",
   "execution_count": 8,
   "metadata": {},
   "outputs": [],
   "source": [
    "(train_data, train_labels), (val_data, val_labels) = cifar10.load_data()"
   ]
  },
  {
   "cell_type": "code",
   "execution_count": 9,
   "metadata": {},
   "outputs": [],
   "source": [
    "myunet = load_model(\".\\\\unet\\\\saved_models\\\\myunet.h5\")"
   ]
  },
  {
   "cell_type": "markdown",
   "metadata": {},
   "source": [
    "### Evaluation du modèle :"
   ]
  },
  {
   "cell_type": "code",
   "execution_count": 10,
   "metadata": {},
   "outputs": [
    {
     "name": "stdout",
     "output_type": "stream",
     "text": [
      "Accuracy sur le dataset de Train : 0.95034\n",
      "Accuracy sur le dataset de Validation : 0.6041\n"
     ]
    }
   ],
   "source": [
    "train_accuracy = myunet.evaluate(train_data, train_labels, verbose=0)\n",
    "val_accuracy = myunet.evaluate(val_data, val_labels, verbose=0)\n",
    "\n",
    "print(\"Accuracy sur le dataset de Train :\", train_accuracy[-1])\n",
    "print(\"Accuracy sur le dataset de Validation :\", val_accuracy[-1])"
   ]
  }
 ],
 "metadata": {
  "kernelspec": {
   "display_name": "Python 3",
   "language": "python",
   "name": "python3"
  },
  "language_info": {
   "codemirror_mode": {
    "name": "ipython",
    "version": 3
   },
   "file_extension": ".py",
   "mimetype": "text/x-python",
   "name": "python",
   "nbconvert_exporter": "python",
   "pygments_lexer": "ipython3",
   "version": "3.7.5"
  }
 },
 "nbformat": 4,
 "nbformat_minor": 2
}
